{
 "cells": [
  {
   "cell_type": "code",
   "execution_count": 1,
   "metadata": {},
   "outputs": [],
   "source": [
    "import pysam"
   ]
  },
  {
   "cell_type": "code",
   "execution_count": 3,
   "metadata": {},
   "outputs": [],
   "source": [
    "samfile = pysam.AlignmentFile(\"/sbgenomics/project-files/merged-tumor.bam\", \"rb\")"
   ]
  },
  {
   "cell_type": "markdown",
   "metadata": {},
   "source": [
    "Analysis of the first read"
   ]
  },
  {
   "cell_type": "code",
   "execution_count": 4,
   "metadata": {},
   "outputs": [],
   "source": [
    "for read in samfile:\n",
    "    first_read = read\n",
    "    break"
   ]
  },
  {
   "cell_type": "code",
   "execution_count": 22,
   "metadata": {},
   "outputs": [
    {
     "name": "stdout",
     "output_type": "stream",
     "text": [
      ">>> QUERY NAME\n",
      "C0HVYACXX120402:7:1207:5722:57044\n",
      "\n",
      ">>> FLAG\n",
      "1187\n",
      "\n",
      ">>> REFERENCE ID\n",
      "20\n",
      "\n",
      ">>> REFERENCE START\n",
      "9483248\n",
      "\n",
      ">>> MAPPING QUALITY\n",
      "27\n",
      "\n",
      ">>> CIGAR TUPLES\n",
      "(0, 76)\n",
      "\n",
      ">>> NEXT REFERENCE ID\n",
      "20\n",
      "\n",
      ">>> NEXT REFERENCE START\n",
      "9483381\n",
      "\n",
      ">>> TEMPLATE LENGTH\n",
      "209\n",
      "\n",
      ">>> QUERY SEQUENCE\n",
      "TTTTCAAACAGTATCTATGCCTGCCAAATGTGAACATATAAAAAAAAACCAGAATGTGCCATTCTGATTTAAACTG\n",
      "\n",
      ">>> QUERY QUALITIES\n",
      "array('B', [28, 28, 27, 29, 31, 30, 31, 31, 29, 31, 35, 30, 29, 31, 34, 30, 29, 23, 41, 32, 20, 30, 29, 34, 34, 29, 30, 31, 30, 30, 30, 33, 33, 26, 39, 12, 25, 19, 32, 30, 35, 28, 35, 33, 23, 33, 35, 36, 30, 38, 33, 41, 34, 35, 31, 33, 23, 30, 30, 36, 27, 32, 29, 34, 35, 41, 33, 31, 33, 29, 32, 32, 31, 31, 31, 34])\n",
      "\n",
      ">>> TAGS\n",
      "('XA', 'GL000217.1,-110754,76M,1;')\n",
      "('BD', 'NNNNNNNNNNNNNNNNNNNNNNNNNNNNNNNNNNNNNNNNNNNNNNNNNNNNNNNNNNNNNNNNNNNNNNNNNNNN')\n",
      "('MD', '76')\n",
      "('RG', '1')\n",
      "('BI', 'NNNNNNNNNNNNNNNNNNNNNNNNNNNNNNNNNNNNNNNNNNNNNNNNNNNNNNNNNNNNNNNNNNNNNNNNNNNN')\n",
      "('NM', 0)\n",
      "('MQ', 27)\n",
      "('AS', 76)\n",
      "('XS', 71)\n"
     ]
    }
   ],
   "source": [
    "fields = [\n",
    "    { \"name\": \"QUERY NAME\", \"prop\": \"query_name\" },\n",
    "    { \"name\": \"FLAG\", \"prop\": \"flag\" },\n",
    "    { \"name\": \"REFERENCE ID\", \"prop\": \"reference_id\" },\n",
    "    { \"name\": \"REFERENCE START\", \"prop\": \"reference_start\" },\n",
    "    { \"name\": \"MAPPING QUALITY\", \"prop\": \"mapping_quality\" },\n",
    "    { \"name\": \"CIGAR TUPLES\", \"prop\": \"cigartuples\", \"collection\": True },\n",
    "    { \"name\": \"NEXT REFERENCE ID\", \"prop\": \"next_reference_id\" },\n",
    "    { \"name\": \"NEXT REFERENCE START\", \"prop\": \"next_reference_start\" },\n",
    "    { \"name\": \"TEMPLATE LENGTH\", \"prop\": \"template_length\" },\n",
    "    { \"name\": \"QUERY SEQUENCE\", \"prop\": \"query_sequence\" },\n",
    "    { \"name\": \"QUERY QUALITIES\", \"prop\": \"query_qualities\", \"collection\": False }\n",
    "]\n",
    "\n",
    "for field in fields:\n",
    "    print(\">>> \" + field['name'])\n",
    "    \n",
    "    data = getattr(first_read, field['prop'])\n",
    "    \n",
    "    if 'collection' in field and field['collection']:\n",
    "        for e in data:\n",
    "            print(e)\n",
    "    else:\n",
    "        print(data)\n",
    "\n",
    "    print()\n",
    "    \n",
    "print(\">>> TAGS\")\n",
    "for tag in first_read.get_tags():\n",
    "    print(tag)"
   ]
  },
  {
   "cell_type": "markdown",
   "metadata": {},
   "source": [
    "Analysis of the flag of the first read"
   ]
  },
  {
   "cell_type": "code",
   "execution_count": 27,
   "metadata": {},
   "outputs": [
    {
     "name": "stdout",
     "output_type": "stream",
     "text": [
      "1187 = 0x4a3\n"
     ]
    }
   ],
   "source": [
    "print(str(first_read.flag) + \" = \" + str(hex(first_read.flag)))"
   ]
  },
  {
   "cell_type": "markdown",
   "metadata": {},
   "source": [
    "0x4a3 = 0x400 + 0x080 + 0x020 + 0x002 + 0x001\n",
    "\n",
    "0x001 => the read is paired in sequencing, no matter whether it is mapped in a pair\n",
    "\n",
    "0x002 => the read is mapped in a proper pair (depends on the protocol, normally inferred during alignment)\n",
    "\n",
    "0x020 => strand of the mate\n",
    "\n",
    "0x080 => the read is the second read in a pair\n",
    "\n",
    "0x400 => the read is either a PCR duplicate or an optical duplicate\n",
    "\n",
    "\n"
   ]
  },
  {
   "cell_type": "markdown",
   "metadata": {},
   "source": [
    "Stats"
   ]
  },
  {
   "cell_type": "code",
   "execution_count": 23,
   "metadata": {},
   "outputs": [],
   "source": [
    "unmappedReads = 0\n",
    "qualZReads = 0\n",
    "totalReads = 0\n",
    "\n",
    "avgMappingQual = 0\n",
    "avgNZMappingQual = 0"
   ]
  },
  {
   "cell_type": "code",
   "execution_count": 24,
   "metadata": {},
   "outputs": [],
   "source": [
    "for read in samfile:\n",
    "    if not(read.is_unmapped):\n",
    "        unmappedReads += 1\n",
    "        \n",
    "    if read.mapping_quality == 0:\n",
    "        qualZReads += 1\n",
    "        \n",
    "    totalReads += 1\n",
    "    \n",
    "    avgMappingQual += read.mapping_quality\n",
    "    \n",
    "    if read.mapping_quality != 0:\n",
    "        avgNZMappingQual += read.mapping_quality\n",
    "        \n",
    "avgMappingQual /= totalReads\n",
    "avgNZMappingQual /= totalReads - qualZReads"
   ]
  },
  {
   "cell_type": "code",
   "execution_count": 25,
   "metadata": {},
   "outputs": [
    {
     "name": "stdout",
     "output_type": "stream",
     "text": [
      "How many unmapped reads are in the file? 2903863\n",
      "\n",
      "Total number of reads: 2921628\n",
      "\n",
      "Number of reads with mapping quality 0: 126628\n",
      "\n",
      "Average mapping quality for all the reads: 55.91380148328261\n",
      "\n",
      "Average mapping quality if reads with 0 mapp quality are filtered out: 58.446986762075134\n"
     ]
    }
   ],
   "source": [
    "print('How many unmapped reads are in the file? ' + str(unmappedReads))\n",
    "print()\n",
    "\n",
    "print('Total number of reads: ' + str(totalReads))\n",
    "print()\n",
    "\n",
    "print('Number of reads with mapping quality 0: ' + str(qualZReads))\n",
    "print()\n",
    "\n",
    "print('Average mapping quality for all the reads: ' + str(avgMappingQual))\n",
    "print()\n",
    "\n",
    "print('Average mapping quality if reads with 0 mapp quality are filtered out: ' + str(avgNZMappingQual))"
   ]
  },
  {
   "cell_type": "code",
   "execution_count": 28,
   "metadata": {},
   "outputs": [],
   "source": [
    "samfile.close()"
   ]
  }
 ],
 "metadata": {
  "kernelspec": {
   "display_name": "Python 3",
   "language": "python",
   "name": "python3"
  },
  "language_info": {
   "codemirror_mode": {
    "name": "ipython",
    "version": 3
   },
   "file_extension": ".py",
   "mimetype": "text/x-python",
   "name": "python",
   "nbconvert_exporter": "python",
   "pygments_lexer": "ipython3",
   "version": "3.6.3"
  }
 },
 "nbformat": 4,
 "nbformat_minor": 2
}
